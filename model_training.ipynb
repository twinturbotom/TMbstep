{
 "cells": [
  {
   "cell_type": "code",
   "execution_count": 1,
   "metadata": {},
   "outputs": [],
   "source": [
    "import TM_vtm_data as vtm\n",
    "import numpy as np\n",
    "import matplotlib.pyplot as plt\n",
    "import matplotlib.animation as animation\n",
    "from matplotlib.pyplot import figure, draw, pause\n",
    "import h5py"
   ]
  },
  {
   "cell_type": "code",
   "execution_count": 2,
   "metadata": {},
   "outputs": [
    {
     "name": "stdout",
     "output_type": "stream",
     "text": [
      "Loading from file\n"
     ]
    }
   ],
   "source": [
    "data = vtm.VTK_data(from_file=True)"
   ]
  },
  {
   "cell_type": "code",
   "execution_count": 3,
   "metadata": {},
   "outputs": [
    {
     "data": {
      "text/plain": [
       "(1000, 44, 223, 1)"
      ]
     },
     "execution_count": 3,
     "metadata": {},
     "output_type": "execute_result"
    }
   ],
   "source": [
    "data.geometries.shape"
   ]
  },
  {
   "cell_type": "code",
   "execution_count": null,
   "metadata": {},
   "outputs": [],
   "source": [
    "#test_geometries = np.stack(data.geometries, axis=0)\n",
    "#test_results = np.stack(data.results, axis=0)"
   ]
  },
  {
   "cell_type": "code",
   "execution_count": null,
   "metadata": {},
   "outputs": [],
   "source": [
    "test_geometries = data.geometries\n",
    "test_results = data.results"
   ]
  },
  {
   "cell_type": "code",
   "execution_count": null,
   "metadata": {},
   "outputs": [],
   "source": [
    "%matplotlib notebook\n",
    "fig, axs = plt.subplots(4, figsize=(6,6))\n",
    "fig.tight_layout(pad=3.0)\n",
    "\n",
    "axs[0].axes.set_title('Input Geometry')\n",
    "axs[1].axes.set_title('Machine Predicted Solution')\n",
    "axs[2].axes.set_title('LBM Predicted Velocity')\n",
    "axs[3].axes.set_title('LBM Predicted Pressure')\n",
    "\n",
    "ims = []\n",
    "for i in range(0,test_geometries.shape[0]-1):\n",
    "    geom = axs[0].imshow(test_geometries[i,:,:,0], animated=True)\n",
    "    predicted = geom #axs[1].imshow( predicted_steady_flow[i,:,:,0], animated=True)\n",
    "    LBM = axs[2].imshow( test_results[i,:,:,0], animated=True)\n",
    "    LBMP= axs[3].imshow(test_results[i,:,:,1], animated=True)\n",
    "    \n",
    "    an = axs[0].annotate(f'Test Case: {i}', xy=(165,48),annotation_clip=False)\n",
    "    \n",
    "    ims.append([geom, predicted, LBM, LBMP, an])\n",
    "    for i in range(0,len(axs)):\n",
    "        axs[i].set_ylim(ymin=0,ymax=test_geometries.shape[1])\n",
    "\n",
    "ani = animation.ArtistAnimation(fig, ims, interval=250, blit=True,\n",
    "                                repeat_delay=100)\n",
    "\n",
    "#ani.save('Predictions.mp4')\n",
    "\n",
    "plt.show()"
   ]
  },
  {
   "cell_type": "code",
   "execution_count": null,
   "metadata": {},
   "outputs": [],
   "source": [
    "f, ax = plt.subplots(1)\n",
    "ax.imshow(test_geometries[2,:,:,0])\n",
    "ax.set_ylim(ymin=0,ymax=test_geometries.shape[1])\n",
    "plt.show()"
   ]
  },
  {
   "cell_type": "code",
   "execution_count": null,
   "metadata": {},
   "outputs": [],
   "source": [
    "data\n",
    "data.geometries = np.stack(data.geometries, axis=0)\n",
    "data.results = np.stack(data.results, axis=0)"
   ]
  },
  {
   "cell_type": "code",
   "execution_count": null,
   "metadata": {},
   "outputs": [],
   "source": [
    "hf = h5py.File('VTK_data.h5','w')\n",
    "hf.create_dataset('geometries',data=data.geometries)\n",
    "hf.create_dataset('results',data=data.results)"
   ]
  },
  {
   "cell_type": "code",
   "execution_count": null,
   "metadata": {},
   "outputs": [],
   "source": [
    "hf.close()"
   ]
  },
  {
   "cell_type": "code",
   "execution_count": null,
   "metadata": {},
   "outputs": [],
   "source": [
    "hf = h5py.File('VTK_data.h5','r')\n",
    "hf.keys()"
   ]
  },
  {
   "cell_type": "code",
   "execution_count": null,
   "metadata": {},
   "outputs": [],
   "source": [
    "geoms = hf.get('geometries')"
   ]
  },
  {
   "cell_type": "code",
   "execution_count": null,
   "metadata": {},
   "outputs": [],
   "source": [
    "geoms.shape"
   ]
  },
  {
   "cell_type": "code",
   "execution_count": null,
   "metadata": {},
   "outputs": [],
   "source": [
    "results = hf.get('results')"
   ]
  },
  {
   "cell_type": "code",
   "execution_count": null,
   "metadata": {},
   "outputs": [],
   "source": [
    "results.shape"
   ]
  },
  {
   "cell_type": "code",
   "execution_count": null,
   "metadata": {},
   "outputs": [],
   "source": [
    "plt.imshow(results[100,:,:,0])"
   ]
  },
  {
   "cell_type": "code",
   "execution_count": null,
   "metadata": {},
   "outputs": [],
   "source": [
    "import matplotlib\n",
    "import matplotlib.pyplot as plt\n",
    "import matplotlib.gridspec as gridspec\n",
    "\n",
    "fig3 = plt.figure(constrained_layout=True)\n",
    "gs = fig3.add_gridspec(3, 2)\n",
    "f3_ax1 = fig3.add_subplot(gs[0, :])\n",
    "f3_ax1.set_title('Geometry]')\n",
    "f3_ax1.imshow(data.geometries[0,:,:,0])\n",
    "\n",
    "f3_ax2 = fig3.add_subplot(gs[1, 0])\n",
    "f3_ax2.set_title('Predicted V')\n",
    "\n",
    "\n",
    "f3_ax4 = fig3.add_subplot(gs[1, 1])\n",
    "f3_ax4.set_title('LBM V')\n",
    "\n",
    "f3_ax5 = fig3.add_subplot(gs[2, 0])\n",
    "f3_ax5.set_title('Predicted P')\n",
    "f3_ax5 = fig3.add_subplot(gs[2, 1])\n",
    "f3_ax5.set_title('LBM P')\n",
    "\n",
    "print(len(fig3.axes))\n",
    "for i in range(0,len(fig3.axes)-1):\n",
    "    fig3.axes[i].set_ylim(ymin=0,ymax=test_geometries.shape[1])"
   ]
  },
  {
   "cell_type": "code",
   "execution_count": null,
   "metadata": {},
   "outputs": [],
   "source": []
  },
  {
   "cell_type": "code",
   "execution_count": null,
   "metadata": {},
   "outputs": [],
   "source": []
  }
 ],
 "metadata": {
  "hide_input": false,
  "kernelspec": {
   "display_name": "Python 3",
   "language": "python",
   "name": "python3"
  },
  "language_info": {
   "codemirror_mode": {
    "name": "ipython",
    "version": 3
   },
   "file_extension": ".py",
   "mimetype": "text/x-python",
   "name": "python",
   "nbconvert_exporter": "python",
   "pygments_lexer": "ipython3",
   "version": "3.7.6"
  }
 },
 "nbformat": 4,
 "nbformat_minor": 2
}
